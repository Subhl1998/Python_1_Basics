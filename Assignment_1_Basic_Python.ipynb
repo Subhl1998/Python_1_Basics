{
  "nbformat": 4,
  "nbformat_minor": 0,
  "metadata": {
    "colab": {
      "provenance": []
    },
    "kernelspec": {
      "name": "python3",
      "display_name": "Python 3"
    },
    "language_info": {
      "name": "python"
    }
  },
  "cells": [
    {
      "cell_type": "markdown",
      "source": [
        "Python Basics Questions\n"
      ],
      "metadata": {
        "id": "FG5winmOPfYw"
      }
    },
    {
      "cell_type": "code",
      "source": [],
      "metadata": {
        "id": "B7PZMtEtVP7R"
      },
      "execution_count": null,
      "outputs": []
    },
    {
      "cell_type": "markdown",
      "source": [
        "Theory Questions.\n",
        "\n"
      ],
      "metadata": {
        "id": "G0tlmgz0Piz7"
      }
    },
    {
      "cell_type": "markdown",
      "source": [
        " 1. What is Python, and why is it popular?\n",
        "\n",
        " Answer-Python is a versatile, high-level programming language known for its readability and simplicity.\n",
        "\n",
        " It's popular due to its versatility, large community support, extensive libraries, and ease of learning. It's used in web development, data science, artificial intelligence, scientific computing, and more."
      ],
      "metadata": {
        "id": "j8PBk3hiUW_t"
      }
    },
    {
      "cell_type": "markdown",
      "source": [
        "2.What is an interpreter in Python?\n",
        "\n",
        "Answer- In Python, an interpreter is like a translator. When you write Python code, the interpreter reads your code line by line and translates it into instructions that the computer can understand and execute immediately. This is different from compiled languages, where the entire code is translated into an executable file before it's run.\n",
        "\n"
      ],
      "metadata": {
        "id": "vBLAS0OlVUDG"
      }
    },
    {
      "cell_type": "markdown",
      "source": [
        "3.What are pre-defined keywords in Python?\n",
        "\n",
        "Answer- Pre-defined keywords in Python are special words that have a specific meaning and purpose in the language. You cannot use these keywords as variable names, function names, or any other identifiers. They are part of Python's syntax and are used to define the structure and logic of your code. Examples include if, else, for, while, def, class, import, return, True, False, None, etc.\n"
      ],
      "metadata": {
        "id": "erHEa2FfVzP-"
      }
    },
    {
      "cell_type": "markdown",
      "source": [
        "4.Can keywords be used as variable names?\n",
        "\n",
        "Answer- No, keywords cannot be used as variable names in Python. They are reserved words with specific meanings and using them as variable names will result in a SyntaxError.\n",
        "\n"
      ],
      "metadata": {
        "id": "u44VOL2lWEis"
      }
    },
    {
      "cell_type": "markdown",
      "source": [
        "5.What is mutability in Python?\n",
        "\n",
        "Answer- Mutability refers to whether an object's value or state can be changed after it has been created."
      ],
      "metadata": {
        "id": "m_fiq-0zWLvQ"
      }
    },
    {
      "cell_type": "code",
      "source": [
        "List = [1,2,3,4,5]\n",
        "List.append(6)\n",
        "print(List)"
      ],
      "metadata": {
        "colab": {
          "base_uri": "https://localhost:8080/"
        },
        "id": "lIBTXSuMWVhX",
        "outputId": "7e68e693-c9d6-42d4-ba39-082bc0b58d2a"
      },
      "execution_count": null,
      "outputs": [
        {
          "output_type": "stream",
          "name": "stdout",
          "text": [
            "[1, 2, 3, 4, 5, 6]\n"
          ]
        }
      ]
    },
    {
      "cell_type": "markdown",
      "source": [
        "6.Why are lists mutable, but tuples are immutable?\n",
        "\n",
        "Answer- Lists are mutable because they’re designed for collections that change, allowing elements to be added, removed, or modified in place.\n",
        "\n",
        "Tuples are immutable because they’re meant for fixed data, which improves safety, allows use as dictionary keys, and enables Python to store them more efficiently."
      ],
      "metadata": {
        "id": "Y99MiNeLWtaD"
      }
    },
    {
      "cell_type": "markdown",
      "source": [],
      "metadata": {
        "id": "37D-qtZgVnkk"
      }
    },
    {
      "cell_type": "markdown",
      "source": [
        "7.What is the difference between “==” and “is” operators in Python?\n",
        "\n",
        "Answer- \"==\" (Equality operator) → Checks whether the values of two objects are the same, regardless of whether they are stored in different memory locations.\n",
        "\n",
        "is (Identity operator) → Checks whether two variables refer to the exact same object in memory (same identity), not just if their contents are equal.\n"
      ],
      "metadata": {
        "id": "XkpvadD-W_SN"
      }
    },
    {
      "cell_type": "code",
      "source": [
        "A = [1,2,3]\n",
        "B = [1,2,3]\n",
        "\n",
        "print (A == B)\n",
        "print (A is B)"
      ],
      "metadata": {
        "colab": {
          "base_uri": "https://localhost:8080/"
        },
        "id": "ZhyP__YfUUVK",
        "outputId": "36a3993b-cb2c-4136-857e-8d9d571da7c5"
      },
      "execution_count": null,
      "outputs": [
        {
          "output_type": "stream",
          "name": "stdout",
          "text": [
            "True\n",
            "False\n"
          ]
        }
      ]
    },
    {
      "cell_type": "markdown",
      "source": [
        "8.What are logical operators in Python?\n",
        "\n",
        "Answer- Logical operators are used to combine or compare conditions and return either True or False.\n",
        "\n",
        "The three main logical operators are:\n",
        "\n",
        "and – Returns True if both conditions are True.\n",
        "\n",
        "or – Returns True if at least one condition is True.\n",
        "\n",
        "not – Reverses the result; returns True if the condition is False."
      ],
      "metadata": {
        "id": "S_NadRRLYerI"
      }
    },
    {
      "cell_type": "code",
      "source": [
        "a = 5\n",
        "b = 10\n",
        "\n",
        "print(a>b) and (a<b)\n",
        "print(a<b) or (a>b)\n",
        "print(not(a>b))"
      ],
      "metadata": {
        "colab": {
          "base_uri": "https://localhost:8080/"
        },
        "id": "QgjwM6IyVpQL",
        "outputId": "13d62c28-18cf-4306-d10c-fb906a1ade1c"
      },
      "execution_count": null,
      "outputs": [
        {
          "output_type": "stream",
          "name": "stdout",
          "text": [
            "False\n",
            "True\n",
            "True\n"
          ]
        }
      ]
    },
    {
      "cell_type": "markdown",
      "source": [
        "9.What is type casting in Python?**\n",
        "\n",
        "Answer-Type casting in Python is changing an object from one data type to another. we do this when we need a value to be a specific type for an operation .\n",
        "\n",
        "There are two ways:\n",
        "\n",
        ">Implicit: Python does it automatically when it's safe (like adding an integer and a float).\n",
        "\n",
        ">Explicit: You do it manually using functions like int(), float(), str().\n",
        "\n",
        "- for example ->"
      ],
      "metadata": {
        "id": "lHxwLHkzZS7i"
      }
    },
    {
      "cell_type": "markdown",
      "source": [],
      "metadata": {
        "id": "l5Ja7nCLUV8Q"
      }
    },
    {
      "cell_type": "code",
      "source": [
        "a = 5.2\n",
        "res = a + 2\n",
        "print(res)"
      ],
      "metadata": {
        "colab": {
          "base_uri": "https://localhost:8080/"
        },
        "id": "NdlgD16jZpW9",
        "outputId": "9fc7590b-9bb5-4a3b-a0fa-af36c7da0c47"
      },
      "execution_count": null,
      "outputs": [
        {
          "output_type": "stream",
          "name": "stdout",
          "text": [
            "7.2\n"
          ]
        }
      ]
    },
    {
      "cell_type": "markdown",
      "source": [
        "10.What is the difference between implicit and explicit type casting?\n",
        "\n",
        "Answer- Difference between Implicit and Explicit Type Casting in Python--\n",
        "\n",
        ">Implicit Type Casting ->\n",
        "- Done automatically by Python.\n",
        "- It happens when Python needs to convert one type to another to avoid data loss.\n",
        "- Risk of data loss\tis very low.\n",
        "- No function is used.\n",
        "\n",
        ">Explicit Type Casting ->\n",
        "- Done manually by the programmer.\n",
        "- it happens when anyone intentionally change a value’s type.\n",
        "- Risk of data loss is Possible.\n",
        "- Uses functions like int(), float(), str(), list()."
      ],
      "metadata": {
        "id": "uJ127_48aPjO"
      }
    },
    {
      "cell_type": "markdown",
      "source": [
        "11.What is the purpose of conditional statements in Python?\n",
        "\n",
        "Answer- The purpose of conditional statements in Python is to control the flow of a program by executing certain blocks of code only when specific conditions are met. They help in making decisions, handling different situations, and creating dynamic behavior based on data or program state.\n",
        "\n",
        "Main conditional statements in Python:\n",
        "\n",
        "if – Executes a block of code if the condition is true.\n",
        "\n",
        "elif – Checks another condition if the previous ones are false.\n",
        "\n",
        "else – Executes a block of code if all previous conditions are false.\n"
      ],
      "metadata": {
        "id": "TEl6LUcYa8Ne"
      }
    },
    {
      "cell_type": "markdown",
      "source": [
        "12.How does the elif statement work?**\n",
        "\n",
        "Answer- The elif statement in Python is used for checking multiple conditions after an initial if statement.\n",
        "It stands for \"else if\" and is evaluated only if the if condition before it is False.\n",
        "\n",
        ">How it works.\n",
        "\n",
        "- Python checks the if condition first.\n",
        "\n",
        "- If the if condition is True, its block runs and all other elif/else blocks are skipped.\n",
        "\n",
        "- If the if condition is False, Python checks the first elif condition.\n",
        "\n",
        "- If that elif is True, its block runs and the rest are skipped.\n",
        "\n",
        "- If all conditions are False, the else block (if present) runs."
      ],
      "metadata": {
        "id": "ACjCv-njbNqC"
      }
    },
    {
      "cell_type": "markdown",
      "source": [
        "13.What is the difference between for and while loops?**\n",
        "\n",
        "Answer- Difference between for and while loops in Python ->\n",
        ">for loop ->\n",
        "- Used when the number of iterations is known or when iterating over a sequence.\n",
        "- Controlled by an iterable (e.g., list, range) or iterator.\n",
        "- Usually handled automatically when looping over a sequence.\n",
        "\n",
        ">while loop->\n",
        "- Used when the number of iterations is not known in advance; runs until a condition becomes false.\n",
        "- Controlled by a condition that is checked before each iteration.\n",
        "- Must manually initialize variables before the loop."
      ],
      "metadata": {
        "id": "k5h5rCyKbaK3"
      }
    },
    {
      "cell_type": "markdown",
      "source": [
        "14.Describe a scenario where a while loop is more suitable than a for loop.**\n",
        "\n",
        "Answer- A while loop is more suitable when the number of repetitions cannot be determined beforehand and the loop needs to continue until a certain condition is met.\n"
      ],
      "metadata": {
        "id": "Ch1j-E_ub40F"
      }
    },
    {
      "cell_type": "code",
      "source": [
        "num = 1\n",
        "while num <= 5:\n",
        "  print(num)\n",
        "  num += 1"
      ],
      "metadata": {
        "colab": {
          "base_uri": "https://localhost:8080/"
        },
        "id": "JeGBlZwccL_s",
        "outputId": "6299d12d-b31d-4493-a215-f31687c851a9"
      },
      "execution_count": null,
      "outputs": [
        {
          "output_type": "stream",
          "name": "stdout",
          "text": [
            "1\n",
            "2\n",
            "3\n",
            "4\n",
            "5\n"
          ]
        }
      ]
    },
    {
      "cell_type": "markdown",
      "source": [
        " Practical Questions\n"
      ],
      "metadata": {
        "id": "2Hmy3yTBcu-A"
      }
    },
    {
      "cell_type": "code",
      "source": [
        "#1. Write a Python program to print \"Hello, World!\n",
        "\n",
        "print(\"Hello, World\")"
      ],
      "metadata": {
        "id": "olQbDu6UczKf"
      },
      "execution_count": null,
      "outputs": []
    },
    {
      "cell_type": "code",
      "source": [
        "#2 Write a Python program that displays your name and age\n",
        "\n",
        "name = \"SUbh\"\n",
        "Age = 21\n",
        "print(f\"My name is {name} and my age is {Age}\")\n"
      ],
      "metadata": {
        "colab": {
          "base_uri": "https://localhost:8080/"
        },
        "id": "2Sa2ZLlRc6jH",
        "outputId": "3606bbd9-440e-4688-b450-c0fe75e08865"
      },
      "execution_count": null,
      "outputs": [
        {
          "output_type": "stream",
          "name": "stdout",
          "text": [
            "My name is SUbh and my age is 21\n"
          ]
        }
      ]
    },
    {
      "cell_type": "code",
      "source": [
        "# Write code to print all the pre-defined keywords in Python using the keyword library\n",
        "\n",
        "import keyword\n",
        "print(keyword.kwlist)"
      ],
      "metadata": {
        "colab": {
          "base_uri": "https://localhost:8080/"
        },
        "id": "TD9RlRPjc6Xm",
        "outputId": "078d9f35-0d49-433b-bf51-0e1120b90b64"
      },
      "execution_count": null,
      "outputs": [
        {
          "output_type": "stream",
          "name": "stdout",
          "text": [
            "['False', 'None', 'True', 'and', 'as', 'assert', 'async', 'await', 'break', 'class', 'continue', 'def', 'del', 'elif', 'else', 'except', 'finally', 'for', 'from', 'global', 'if', 'import', 'in', 'is', 'lambda', 'nonlocal', 'not', 'or', 'pass', 'raise', 'return', 'try', 'while', 'with', 'yield']\n"
          ]
        }
      ]
    },
    {
      "cell_type": "code",
      "source": [
        "## 4. Write a program that checks if a given word is a Python keyword.\n",
        "\n",
        "import keyword\n",
        "w = input(\"Enter the word: \")\n",
        "if keyword.iskeyword(w):\n",
        "  print(f\"(w) is a python keyword\")\n",
        "else:\n",
        "  print(f\"(w) is not a python keyword=\")\n",
        "\n"
      ],
      "metadata": {
        "colab": {
          "base_uri": "https://localhost:8080/"
        },
        "id": "X4sGXU-Vc6O6",
        "outputId": "dcac0daa-11a8-4513-c01f-d667b63de640"
      },
      "execution_count": null,
      "outputs": [
        {
          "output_type": "stream",
          "name": "stdout",
          "text": [
            "Enter the word: def\n",
            "(w) is a python keyword\n"
          ]
        }
      ]
    },
    {
      "cell_type": "code",
      "source": [
        "# 5. Create a list and tuple in Python, and demonstrate how attempting to change an element works differently\n",
        "\n",
        "List = [1,2,3,4,5]\n",
        "print(List)\n",
        "List[0] = 33\n",
        "print(f\"New List is {List}\")\n",
        "\n",
        "tuple = (1,2,3,4,5)\n",
        "print(tuple)\n",
        "tuple[0] = 33\n",
        "print(tuple)  # tuplle is immutable can't b change\n"
      ],
      "metadata": {
        "colab": {
          "base_uri": "https://localhost:8080/",
          "height": 255
        },
        "id": "xVMrq0xhc6FU",
        "outputId": "c6a1891c-8887-4da8-c556-69da5bc80784"
      },
      "execution_count": null,
      "outputs": [
        {
          "output_type": "stream",
          "name": "stdout",
          "text": [
            "[1, 2, 3, 4, 5]\n",
            "New List is [33, 2, 3, 4, 5]\n",
            "(1, 2, 3, 4, 5)\n"
          ]
        },
        {
          "output_type": "error",
          "ename": "TypeError",
          "evalue": "'tuple' object does not support item assignment",
          "traceback": [
            "\u001b[0;31m---------------------------------------------------------------------------\u001b[0m",
            "\u001b[0;31mTypeError\u001b[0m                                 Traceback (most recent call last)",
            "\u001b[0;32m/tmp/ipython-input-2350433922.py\u001b[0m in \u001b[0;36m<cell line: 0>\u001b[0;34m()\u001b[0m\n\u001b[1;32m      8\u001b[0m \u001b[0mtuple\u001b[0m \u001b[0;34m=\u001b[0m \u001b[0;34m(\u001b[0m\u001b[0;36m1\u001b[0m\u001b[0;34m,\u001b[0m\u001b[0;36m2\u001b[0m\u001b[0;34m,\u001b[0m\u001b[0;36m3\u001b[0m\u001b[0;34m,\u001b[0m\u001b[0;36m4\u001b[0m\u001b[0;34m,\u001b[0m\u001b[0;36m5\u001b[0m\u001b[0;34m)\u001b[0m\u001b[0;34m\u001b[0m\u001b[0;34m\u001b[0m\u001b[0m\n\u001b[1;32m      9\u001b[0m \u001b[0mprint\u001b[0m\u001b[0;34m(\u001b[0m\u001b[0mtuple\u001b[0m\u001b[0;34m)\u001b[0m\u001b[0;34m\u001b[0m\u001b[0;34m\u001b[0m\u001b[0m\n\u001b[0;32m---> 10\u001b[0;31m \u001b[0mtuple\u001b[0m\u001b[0;34m[\u001b[0m\u001b[0;36m0\u001b[0m\u001b[0;34m]\u001b[0m \u001b[0;34m=\u001b[0m \u001b[0;36m33\u001b[0m\u001b[0;34m\u001b[0m\u001b[0;34m\u001b[0m\u001b[0m\n\u001b[0m\u001b[1;32m     11\u001b[0m \u001b[0mprint\u001b[0m\u001b[0;34m(\u001b[0m\u001b[0mtuple\u001b[0m\u001b[0;34m)\u001b[0m  \u001b[0;31m# tuplle is immutable can't b change\u001b[0m\u001b[0;34m\u001b[0m\u001b[0;34m\u001b[0m\u001b[0m\n",
            "\u001b[0;31mTypeError\u001b[0m: 'tuple' object does not support item assignment"
          ]
        }
      ]
    },
    {
      "cell_type": "code",
      "source": [
        "# 6. Write a function to demonstrate the behavior of mutable and immutable arguments.\n",
        "\n",
        "def modify(age, bag):\n",
        "  age = age + 1\n",
        "\n",
        "  bag.append(\"milk\")\n",
        "\n",
        "  print(\"Inside -> age\", age)\n",
        "  print(\"Inside -> bag\", bag)\n",
        "\n",
        "  myage = 20\n",
        "  shbag = [\"Chicken\", \"Egg\"]\n",
        "\n",
        "  modify(age, bag)\n",
        "  print(\"Outside -> age\", myage)\n",
        "  print(\"Outside -> bag\", shbag)\n",
        "\n",
        "\n"
      ],
      "metadata": {
        "id": "Cy46wjAic53m"
      },
      "execution_count": null,
      "outputs": []
    },
    {
      "cell_type": "code",
      "source": [
        "# 7. Write a program that performs basic arithmetic operations on two user-input numbers.\n",
        "\n",
        "num1 = int(input(\"Enter the first number: \"))\n",
        "num2 = int(input(\"Enter the second number: \"))\n",
        "print(f\"Addition of {num1} and {num2} is {num1 + num2}\")\n",
        "print(f\"Subtraction of {num1} and {num2} is {num1 - num2}\")\n",
        "print(f\"(Multiplication of {num1} and {num2} is {num1 * num2}\")\n",
        "print(f\"Division of {num1} and {num2} is {num1 / num2}\")\n",
        "print(f\"Modulus of {num1} and {num2} is {num1 % num2}\")\n",
        "print(f\"Exponent of {num1} and {num2} is {num1 ** num2}\")\n",
        "print(f\"Floor division of {num1} and {num2} is {num1 // num2}\")"
      ],
      "metadata": {
        "colab": {
          "base_uri": "https://localhost:8080/"
        },
        "id": "gyFNgb-ZmDo_",
        "outputId": "8b03acb5-275b-4bb5-f1f8-4b8df9853812"
      },
      "execution_count": null,
      "outputs": [
        {
          "output_type": "stream",
          "name": "stdout",
          "text": [
            "Enter the first number: 20\n",
            "Enter the second number: 30\n",
            "Addition of 20 and 30 is 50\n",
            "Subtraction of 20 and 30 is -10\n",
            "(Multiplication of 20 and 30 is 600\n",
            "Division of 20 and 30 is 0.6666666666666666\n",
            "Modulus of 20 and 30 is 20\n",
            "Exponent of 20 and 30 is 1073741824000000000000000000000000000000\n",
            "Floor division of 20 and 30 is 0\n"
          ]
        }
      ]
    },
    {
      "cell_type": "code",
      "source": [
        "# 8. Write a program to demonstrate the use of logical operators.\n",
        "\n",
        "a = True\n",
        "b = False\n",
        "\n",
        "print(f\"The operator of {a} and {b} is {a and b}\")\n",
        "print(f\"The operator of {a} or {b} is {a or b}\")\n",
        "print(f\"The operator of {a} and not {b} is {not a}\")\n",
        "\n"
      ],
      "metadata": {
        "colab": {
          "base_uri": "https://localhost:8080/"
        },
        "id": "8ZqtrEWsnHtP",
        "outputId": "368171a7-a1fe-45a9-853b-e7fbe262703c"
      },
      "execution_count": null,
      "outputs": [
        {
          "output_type": "stream",
          "name": "stdout",
          "text": [
            "The operator of True and False is False\n",
            "The operator of True or False is True\n",
            "The operator of True and not False is False\n"
          ]
        }
      ]
    },
    {
      "cell_type": "code",
      "source": [
        "# 9. Write a Python program to convert user input from string to integer, float, and boolean types.\n",
        "\n",
        "a = input(\"Enter the value\")\n",
        "print(int(a))\n",
        "print(float(a))\n",
        "print(bool(a))"
      ],
      "metadata": {
        "colab": {
          "base_uri": "https://localhost:8080/"
        },
        "id": "gE67wLVtoK8h",
        "outputId": "9a695196-1c15-4292-f3cd-3afc32d87d9c"
      },
      "execution_count": null,
      "outputs": [
        {
          "output_type": "stream",
          "name": "stdout",
          "text": [
            "Enter the value20\n",
            "20\n",
            "20.0\n",
            "True\n"
          ]
        }
      ]
    },
    {
      "cell_type": "code",
      "source": [
        "# 10. Write code to demonstrate type casting with list elements.\n",
        "\n",
        "String_No = [1,2,3,4,5,6]\n",
        "\n",
        "Int_no = [int(x) for x in String_No]\n",
        "\n",
        "print(\"Before\", String_No)\n",
        "print(\"After\", Int_no)\n",
        "print(type(Int_no))\n"
      ],
      "metadata": {
        "colab": {
          "base_uri": "https://localhost:8080/"
        },
        "id": "UEx3PV9-uAY3",
        "outputId": "772f0601-1078-4f46-99b8-c33796a4d898"
      },
      "execution_count": null,
      "outputs": [
        {
          "output_type": "stream",
          "name": "stdout",
          "text": [
            "Before [1, 2, 3, 4, 5, 6]\n",
            "After [1, 2, 3, 4, 5, 6]\n",
            "<class 'list'>\n"
          ]
        }
      ]
    },
    {
      "cell_type": "code",
      "source": [
        "# 11. Write a program that checks if a number is positive, negative, or zero.\n",
        "\n",
        "num = int(input(\"Enter the number:\"))\n",
        "\n",
        "if num > 0:\n",
        "  print(\"Positive\")\n",
        "elif num<0:\n",
        "  print(\"Negative\")\n",
        "else:\n",
        "  print(\"Zero\")"
      ],
      "metadata": {
        "colab": {
          "base_uri": "https://localhost:8080/"
        },
        "id": "5cx6l1dyvAAQ",
        "outputId": "f528ca60-61df-4497-ed68-2dda9ce69f06"
      },
      "execution_count": null,
      "outputs": [
        {
          "output_type": "stream",
          "name": "stdout",
          "text": [
            "Enter the number:-10\n",
            "Negative\n"
          ]
        }
      ]
    },
    {
      "cell_type": "code",
      "source": [
        " #12. Write a for loop to print numbers from 1 to 10.\n",
        "\n",
        "for i in range(1, 20):\n",
        "  print(i)\n"
      ],
      "metadata": {
        "colab": {
          "base_uri": "https://localhost:8080/"
        },
        "id": "rTz2sN7Zwbxz",
        "outputId": "b12dab26-c177-4d90-9f72-b5beac0fcde3"
      },
      "execution_count": null,
      "outputs": [
        {
          "output_type": "stream",
          "name": "stdout",
          "text": [
            "1\n",
            "2\n",
            "3\n",
            "4\n",
            "5\n",
            "6\n",
            "7\n",
            "8\n",
            "9\n",
            "10\n",
            "11\n",
            "12\n",
            "13\n",
            "14\n",
            "15\n",
            "16\n",
            "17\n",
            "18\n",
            "19\n"
          ]
        }
      ]
    },
    {
      "cell_type": "code",
      "source": [
        "# 13. Write a Python program to find the sum of all even numbers between 1 and 50.\n",
        "\n",
        "T = 0\n",
        "\n",
        "for num in range(1, 51):\n",
        "  if num %2 == 0:\n",
        "    T += num\n",
        "    print(f\"find the sum of all even numbers between 1 and 50 is\", T)"
      ],
      "metadata": {
        "colab": {
          "base_uri": "https://localhost:8080/"
        },
        "id": "4FOyCw-6xJR_",
        "outputId": "904d0a8c-dccd-4f20-cbb5-bd0e508fd902"
      },
      "execution_count": null,
      "outputs": [
        {
          "output_type": "stream",
          "name": "stdout",
          "text": [
            "find the sum of all even numbers between 1 and 50 is 2\n",
            "find the sum of all even numbers between 1 and 50 is 6\n",
            "find the sum of all even numbers between 1 and 50 is 12\n",
            "find the sum of all even numbers between 1 and 50 is 20\n",
            "find the sum of all even numbers between 1 and 50 is 30\n",
            "find the sum of all even numbers between 1 and 50 is 42\n",
            "find the sum of all even numbers between 1 and 50 is 56\n",
            "find the sum of all even numbers between 1 and 50 is 72\n",
            "find the sum of all even numbers between 1 and 50 is 90\n",
            "find the sum of all even numbers between 1 and 50 is 110\n",
            "find the sum of all even numbers between 1 and 50 is 132\n",
            "find the sum of all even numbers between 1 and 50 is 156\n",
            "find the sum of all even numbers between 1 and 50 is 182\n",
            "find the sum of all even numbers between 1 and 50 is 210\n",
            "find the sum of all even numbers between 1 and 50 is 240\n",
            "find the sum of all even numbers between 1 and 50 is 272\n",
            "find the sum of all even numbers between 1 and 50 is 306\n",
            "find the sum of all even numbers between 1 and 50 is 342\n",
            "find the sum of all even numbers between 1 and 50 is 380\n",
            "find the sum of all even numbers between 1 and 50 is 420\n",
            "find the sum of all even numbers between 1 and 50 is 462\n",
            "find the sum of all even numbers between 1 and 50 is 506\n",
            "find the sum of all even numbers between 1 and 50 is 552\n",
            "find the sum of all even numbers between 1 and 50 is 600\n",
            "find the sum of all even numbers between 1 and 50 is 650\n"
          ]
        }
      ]
    },
    {
      "cell_type": "code",
      "source": [
        "# 14. Write a program to reverse a string using a while loop.\n",
        "\n",
        "string = input(\"Enter the word\")\n",
        "i = len(string) - 1\n",
        "while i >= 0:\n",
        "  print(string[i], end= \"\")\n",
        "  i-=1"
      ],
      "metadata": {
        "id": "iiHJUEDbysrT",
        "colab": {
          "base_uri": "https://localhost:8080/"
        },
        "outputId": "0b64d5ad-c4cb-4a7b-8935-ab10a3f496be"
      },
      "execution_count": 35,
      "outputs": [
        {
          "output_type": "stream",
          "name": "stdout",
          "text": [
            "Enter the wordsubha\n",
            "ahbus"
          ]
        }
      ]
    },
    {
      "cell_type": "code",
      "source": [
        "# 15. Write a Python program to calculate the factorial of a number provided by the user using a while loop.\n",
        "\n",
        "num=int(input(\"Enter the number :\"))\n",
        "i=2\n",
        "factorial=1\n",
        "while i<=num:\n",
        "  factorial*=i\n",
        "  i+=1\n",
        "print(f\"factorial of {num} is {factorial}\")\n"
      ],
      "metadata": {
        "colab": {
          "base_uri": "https://localhost:8080/"
        },
        "id": "gog35VgsFoKw",
        "outputId": "bbc8baf6-0fe1-4090-f990-e1bf9b52b4a2"
      },
      "execution_count": 36,
      "outputs": [
        {
          "output_type": "stream",
          "name": "stdout",
          "text": [
            "Enter the number :20\n",
            "factorial of 20 is 2432902008176640000\n"
          ]
        }
      ]
    }
  ]
}